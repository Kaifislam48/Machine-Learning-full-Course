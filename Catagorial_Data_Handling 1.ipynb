{
  "cells": [
    {
      "cell_type": "code",
      "execution_count": null,
      "metadata": {
        "id": "FjorbAJFbMzy"
      },
      "outputs": [],
      "source": [
        "#Label Encoding"
      ]
    },
    {
      "cell_type": "code",
      "execution_count": 1,
      "metadata": {
        "id": "ODNjjJ6pbVA1"
      },
      "outputs": [],
      "source": [
        "import numpy as np\n",
        "import pandas as pd"
      ]
    },
    {
      "cell_type": "code",
      "execution_count": 3,
      "metadata": {
        "colab": {
          "base_uri": "https://localhost:8080/"
        },
        "id": "vCm8l0jJbQAe",
        "outputId": "4b8d58c3-37b7-45f6-caa0-17ec7d09c309"
      },
      "outputs": [
        {
          "name": "stdout",
          "output_type": "stream",
          "text": [
            "  Category  Category_LabelEncoded\n",
            "0      Red                      2\n",
            "1    Green                      1\n",
            "2     Blue                      0\n",
            "3      Red                      2\n",
            "4    Green                      1\n"
          ]
        }
      ],
      "source": [
        "from sklearn.preprocessing import LabelEncoder\n",
        "data = {'Category': ['Red', 'Green', 'Blue', 'Red', 'Green']}\n",
        "df = pd.DataFrame(data)\n",
        "le = LabelEncoder()\n",
        "df['Category_LabelEncoded'] = le.fit_transform(df['Category'])\n",
        "\n",
        "print(df)"
      ]
    },
    {
      "cell_type": "code",
      "execution_count": null,
      "metadata": {
        "colab": {
          "base_uri": "https://localhost:8080/"
        },
        "id": "IylQcHU9ben0",
        "outputId": "1e831ea3-6aa0-46c5-e7af-f4d2589e8fee"
      },
      "outputs": [
        {
          "name": "stdout",
          "output_type": "stream",
          "text": [
            "   Category_LabelEncoded  Category_Blue  Category_Green  Category_Red\n",
            "0                      2              0               0             1\n",
            "1                      1              0               1             0\n",
            "2                      0              1               0             0\n",
            "3                      2              0               0             1\n",
            "4                      1              0               1             0\n"
          ]
        }
      ],
      "source": [
        "# One-hot encoding\n",
        "df_encoded = pd.get_dummies(df, columns=['Category'], prefix='Category')\n",
        "print(df_encoded)\n"
      ]
    },
    {
      "cell_type": "code",
      "execution_count": null,
      "metadata": {
        "id": "Ha1iCByLc0Rw"
      },
      "outputs": [],
      "source": [
        "#Ordinal encoding"
      ]
    },
    {
      "cell_type": "code",
      "execution_count": null,
      "metadata": {
        "colab": {
          "base_uri": "https://localhost:8080/"
        },
        "id": "HTJElyRxc6kw",
        "outputId": "41e3d237-801c-459c-b1d6-d750b1e19716"
      },
      "outputs": [
        {
          "name": "stdout",
          "output_type": "stream",
          "text": [
            "     Size  Size_OrdinalEncoded\n",
            "0   Small                    1\n",
            "1  Medium                    2\n",
            "2   Large                    3\n",
            "3  Medium                    2\n",
            "4   Small                    1\n"
          ]
        }
      ],
      "source": [
        "from sklearn.preprocessing import OrdinalEncoder\n",
        "data = {'Size': ['Small', 'Medium', 'Large', 'Medium', 'Small']}\n",
        "df = pd.DataFrame(data)\n",
        "\n",
        "# Define the ordinal mapping\n",
        "ordinal_mapping = {'Small': 1, 'Medium': 2, 'Large': 3}\n",
        "\n",
        "# Apply ordinal encoding\n",
        "df['Size_OrdinalEncoded'] = df['Size'].map(ordinal_mapping)\n",
        "\n",
        "print(df)"
      ]
    },
    {
      "cell_type": "code",
      "execution_count": null,
      "metadata": {
        "id": "0YY-QkU1dUIN"
      },
      "outputs": [],
      "source": [
        "#Frequency encoding"
      ]
    },
    {
      "cell_type": "code",
      "execution_count": null,
      "metadata": {
        "colab": {
          "base_uri": "https://localhost:8080/"
        },
        "id": "9jF6r8kUdXDL",
        "outputId": "0b4dcc1b-5bb4-4a39-da0d-6e432070a22f"
      },
      "outputs": [
        {
          "name": "stdout",
          "output_type": "stream",
          "text": [
            "   Color  Color_FrequencyEncoded\n",
            "0    Red                       3\n",
            "1   Blue                       2\n",
            "2  Green                       2\n",
            "3  black                       1\n",
            "4    Red                       3\n",
            "5    Red                       3\n",
            "6   Blue                       2\n",
            "7  Green                       2\n",
            "8   pink                       1\n"
          ]
        }
      ],
      "source": [
        "data = {'Color': ['Red', 'Blue', 'Green', 'black', 'Red', 'Red', 'Blue', 'Green', 'pink']}\n",
        "df = pd.DataFrame(data)\n",
        "\n",
        "# Calculate frequencies of each category\n",
        "frequency_map = df['Color'].value_counts().to_dict()\n",
        "\n",
        "# Apply frequency encoding\n",
        "df['Color_FrequencyEncoded'] = df['Color'].map(frequency_map)\n",
        "\n",
        "print(df)\n"
      ]
    },
    {
      "cell_type": "code",
      "execution_count": null,
      "metadata": {
        "id": "DepUAGZMdbuc"
      },
      "outputs": [],
      "source": [
        "# Target encoding"
      ]
    },
    {
      "cell_type": "code",
      "execution_count": null,
      "metadata": {
        "colab": {
          "base_uri": "https://localhost:8080/"
        },
        "id": "0XKqqHgLcL0u",
        "outputId": "25022b8f-1b9f-499a-f1e9-fe63c4dea3e1"
      },
      "outputs": [
        {
          "name": "stdout",
          "output_type": "stream",
          "text": [
            "  Category  Target  Category_TargetEncoded\n",
            "0      Red       1                     0.5\n",
            "1    Green       0                     0.5\n",
            "2     Blue       1                     1.0\n",
            "3      Red       0                     0.5\n",
            "4    Green       1                     0.5\n"
          ]
        }
      ],
      "source": [
        "data = {'Category': ['Red', 'Green', 'Blue', 'Red', 'Green'],\n",
        "        'Target': [1, 0, 1, 0, 1]}\n",
        "df = pd.DataFrame(data)\n",
        "# Target encoding\n",
        "target = df.groupby('Category')['Target'].mean()\n",
        "df['Category_TargetEncoded'] = df['Category'].map(target)\n",
        "print(df)\n"
      ]
    },
    {
      "cell_type": "code",
      "execution_count": null,
      "metadata": {
        "id": "ApPZgQ9veK0Y"
      },
      "outputs": [],
      "source": [
        "#Binary encoding"
      ]
    },
    {
      "cell_type": "code",
      "execution_count": null,
      "metadata": {
        "colab": {
          "base_uri": "https://localhost:8080/"
        },
        "id": "35Dryh2reOf4",
        "outputId": "2c563da6-7e41-4a76-f99c-75c5ed251b2c"
      },
      "outputs": [
        {
          "name": "stdout",
          "output_type": "stream",
          "text": [
            "Requirement already satisfied: category_encoders in /usr/local/lib/python3.10/dist-packages (2.6.3)\n",
            "Requirement already satisfied: numpy>=1.14.0 in /usr/local/lib/python3.10/dist-packages (from category_encoders) (1.23.5)\n",
            "Requirement already satisfied: scikit-learn>=0.20.0 in /usr/local/lib/python3.10/dist-packages (from category_encoders) (1.2.2)\n",
            "Requirement already satisfied: scipy>=1.0.0 in /usr/local/lib/python3.10/dist-packages (from category_encoders) (1.11.4)\n",
            "Requirement already satisfied: statsmodels>=0.9.0 in /usr/local/lib/python3.10/dist-packages (from category_encoders) (0.14.1)\n",
            "Requirement already satisfied: pandas>=1.0.5 in /usr/local/lib/python3.10/dist-packages (from category_encoders) (1.5.3)\n",
            "Requirement already satisfied: patsy>=0.5.1 in /usr/local/lib/python3.10/dist-packages (from category_encoders) (0.5.6)\n",
            "Requirement already satisfied: python-dateutil>=2.8.1 in /usr/local/lib/python3.10/dist-packages (from pandas>=1.0.5->category_encoders) (2.8.2)\n",
            "Requirement already satisfied: pytz>=2020.1 in /usr/local/lib/python3.10/dist-packages (from pandas>=1.0.5->category_encoders) (2023.3.post1)\n",
            "Requirement already satisfied: six in /usr/local/lib/python3.10/dist-packages (from patsy>=0.5.1->category_encoders) (1.16.0)\n",
            "Requirement already satisfied: joblib>=1.1.1 in /usr/local/lib/python3.10/dist-packages (from scikit-learn>=0.20.0->category_encoders) (1.3.2)\n",
            "Requirement already satisfied: threadpoolctl>=2.0.0 in /usr/local/lib/python3.10/dist-packages (from scikit-learn>=0.20.0->category_encoders) (3.2.0)\n",
            "Requirement already satisfied: packaging>=21.3 in /usr/local/lib/python3.10/dist-packages (from statsmodels>=0.9.0->category_encoders) (23.2)\n"
          ]
        }
      ],
      "source": [
        "# Install the category_encoders library\n",
        "!pip install category_encoders"
      ]
    },
    {
      "cell_type": "code",
      "execution_count": null,
      "metadata": {
        "colab": {
          "base_uri": "https://localhost:8080/"
        },
        "id": "lIx-yhagfB60",
        "outputId": "ac2f0137-7b29-4ff9-d5b5-d4d322c5d600"
      },
      "outputs": [
        {
          "name": "stdout",
          "output_type": "stream",
          "text": [
            "   Color_0  Color_1  Color_2\n",
            "0        0        0        1\n",
            "1        0        1        0\n",
            "2        0        1        0\n",
            "3        0        1        1\n",
            "4        0        1        1\n",
            "5        1        0        0\n",
            "6        1        0        0\n"
          ]
        }
      ],
      "source": [
        "import pandas as pd\n",
        "import category_encoders as ce\n",
        "data = {'Color': [ 'Blue', 'Green', 'Green', 'red', 'red', 'pink', 'pink']}\n",
        "df = pd.DataFrame(data)\n",
        "\n",
        "# Initialize BinaryEncoder\n",
        "encoder = ce.BinaryEncoder(cols=['Color'])\n",
        "\n",
        "# Apply binary encoding\n",
        "df_binary = encoder.fit_transform(df)\n",
        "print(df_binary)"
      ]
    },
    {
      "cell_type": "code",
      "execution_count": null,
      "metadata": {
        "id": "VJvwMxA-f2ph"
      },
      "outputs": [],
      "source": [
        "#hashing trick"
      ]
    },
    {
      "cell_type": "code",
      "execution_count": null,
      "metadata": {
        "colab": {
          "base_uri": "https://localhost:8080/"
        },
        "id": "biwZO_grf8F1",
        "outputId": "9626a41e-865b-428f-94be-6598731bd11b"
      },
      "outputs": [
        {
          "name": "stdout",
          "output_type": "stream",
          "text": [
            "   Color  Color_Hash\n",
            "0    Red           1\n",
            "1   Blue          98\n",
            "2  Green           9\n",
            "3    Red           1\n",
            "4  Green           9\n"
          ]
        }
      ],
      "source": [
        "data = {'Color': ['Red', 'Blue', 'Green', 'Red', 'Green']}\n",
        "df = pd.DataFrame(data)\n",
        "\n",
        "# Apply hashing trick\n",
        "hash_range = 100  # Choose the desired range for the hash values\n",
        "df['Color_Hash'] = df['Color'].apply(lambda x: hash(x) % hash_range)\n",
        "print(df)\n"
      ]
    },
    {
      "cell_type": "code",
      "execution_count": null,
      "metadata": {
        "id": "mPfAuF5uhsY-"
      },
      "outputs": [],
      "source": [
        "# Handling categorical data - Example: One-Hot Encoding for the 'Gender' column in employees dataset"
      ]
    },
    {
      "cell_type": "code",
      "execution_count": null,
      "metadata": {
        "colab": {
          "base_uri": "https://localhost:8080/"
        },
        "id": "cNfzdjjUhNEG",
        "outputId": "f8062b25-a85a-4f2c-d5e5-164051527303"
      },
      "outputs": [
        {
          "name": "stdout",
          "output_type": "stream",
          "text": [
            "Initial structure:\n",
            "  First Name  Gender Start Date Last Login Time  Salary  Bonus %  \\\n",
            "0    Douglas    Male   8/6/1993        12:42 PM   97308    6.945   \n",
            "1     Thomas    Male  3/31/1996         6:53 AM   61933    4.170   \n",
            "2      Maria  Female  4/23/1993        11:17 AM  130590   11.858   \n",
            "3      Jerry    Male   3/4/2005         1:00 PM  138705    9.340   \n",
            "4      Larry    Male  1/24/1998         4:47 PM  101004    1.389   \n",
            "\n",
            "  Senior Management             Team  \n",
            "0              True        Marketing  \n",
            "1              True              NaN  \n",
            "2             False          Finance  \n",
            "3              True          Finance  \n",
            "4              True  Client Services  \n",
            "Modified structure after one-hot encoding:\n",
            "  First Name Start Date Last Login Time  Salary  Bonus % Senior Management  \\\n",
            "0    Douglas   8/6/1993        12:42 PM   97308    6.945              True   \n",
            "1     Thomas  3/31/1996         6:53 AM   61933    4.170              True   \n",
            "2      Maria  4/23/1993        11:17 AM  130590   11.858             False   \n",
            "3      Jerry   3/4/2005         1:00 PM  138705    9.340              True   \n",
            "4      Larry  1/24/1998         4:47 PM  101004    1.389              True   \n",
            "\n",
            "              Team  Gender_Female  Gender_Male  \n",
            "0        Marketing              0            1  \n",
            "1              NaN              0            1  \n",
            "2          Finance              1            0  \n",
            "3          Finance              0            1  \n",
            "4  Client Services              0            1  \n"
          ]
        }
      ],
      "source": [
        "import pandas as pd\n",
        "path_to_dataset = '/content/employees.csv'\n",
        "# Load the dataset\n",
        "df = pd.read_csv(path_to_dataset)\n",
        "\n",
        "# Display the initial structure of the dataset\n",
        "print(\"Initial structure:\")\n",
        "print(df.head())\n",
        "\n",
        "df = pd.get_dummies(df, columns=['Gender'], prefix='Gender')\n",
        "print(\"Modified structure after one-hot encoding:\")\n",
        "print(df.head())"
      ]
    }
  ],
  "metadata": {
    "colab": {
      "provenance": []
    },
    "kernelspec": {
      "display_name": "Python 3",
      "name": "python3"
    },
    "language_info": {
      "name": "python"
    }
  },
  "nbformat": 4,
  "nbformat_minor": 0
}
