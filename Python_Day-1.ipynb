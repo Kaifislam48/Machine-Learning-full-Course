{
 "cells": [
  {
   "cell_type": "markdown",
   "id": "dd690f23",
   "metadata": {},
   "source": [
    "# Basic About Python"
   ]
  },
  {
   "cell_type": "code",
   "execution_count": null,
   "id": "d54ce213",
   "metadata": {},
   "outputs": [],
   "source": [
    "print(\"Hello World!\")"
   ]
  },
  {
   "cell_type": "code",
   "execution_count": null,
   "id": "cb64a1ce",
   "metadata": {},
   "outputs": [],
   "source": [
    "print(5)"
   ]
  },
  {
   "cell_type": "code",
   "execution_count": null,
   "id": "40e5d704",
   "metadata": {},
   "outputs": [],
   "source": [
    "print(3+4)"
   ]
  },
  {
   "cell_type": "code",
   "execution_count": null,
   "id": "416e2572",
   "metadata": {},
   "outputs": [],
   "source": [
    "print(5-3)"
   ]
  },
  {
   "cell_type": "code",
   "execution_count": null,
   "id": "9a105732",
   "metadata": {},
   "outputs": [],
   "source": [
    "print(3*6)"
   ]
  },
  {
   "cell_type": "code",
   "execution_count": null,
   "id": "266e2df4",
   "metadata": {},
   "outputs": [],
   "source": [
    "print(4/2)"
   ]
  },
  {
   "cell_type": "code",
   "execution_count": null,
   "id": "7c49c0cd",
   "metadata": {},
   "outputs": [],
   "source": [
    "print(5%2)"
   ]
  },
  {
   "cell_type": "code",
   "execution_count": null,
   "id": "d074151b",
   "metadata": {},
   "outputs": [],
   "source": [
    "print(\"Good Morning Everyone.\\nMy name is Kaif Islam!\")   #Escape Sequence \\n for next Line"
   ]
  },
  {
   "cell_type": "markdown",
   "id": "04e7702a",
   "metadata": {},
   "source": [
    "# Comment in Python!"
   ]
  },
  {
   "cell_type": "code",
   "execution_count": null,
   "id": "cf038bf0",
   "metadata": {},
   "outputs": [],
   "source": [
    "#I am learning Python for become a good python Developer!"
   ]
  },
  {
   "cell_type": "markdown",
   "id": "42400dd1",
   "metadata": {},
   "source": [
    "# Variable "
   ]
  },
  {
   "cell_type": "code",
   "execution_count": null,
   "id": "a0b57a3b",
   "metadata": {},
   "outputs": [],
   "source": [
    " # Define Variable:- Variable is like a container which is use to store or hold data."
   ]
  },
  {
   "cell_type": "code",
   "execution_count": null,
   "id": "66fe27d6",
   "metadata": {},
   "outputs": [],
   "source": [
    "a = 5\n",
    "print(a)"
   ]
  },
  {
   "cell_type": "code",
   "execution_count": null,
   "id": "c171ff3f",
   "metadata": {},
   "outputs": [],
   "source": [
    "str = \"Kaif\"\n",
    "print(str)"
   ]
  },
  {
   "cell_type": "code",
   "execution_count": null,
   "id": "bb5e7822",
   "metadata": {},
   "outputs": [],
   "source": [
    "# Sum of two number \n",
    "a = 4\n",
    "b = 5\n",
    "print(a+b)"
   ]
  },
  {
   "cell_type": "code",
   "execution_count": null,
   "id": "a6cd7160",
   "metadata": {},
   "outputs": [],
   "source": [
    "# Difference between two number\n",
    "a = 45\n",
    "b = 30\n",
    "print(a-b)"
   ]
  },
  {
   "cell_type": "markdown",
   "id": "e904fa5e",
   "metadata": {},
   "source": [
    "# Print type of variable"
   ]
  },
  {
   "cell_type": "code",
   "execution_count": null,
   "id": "5636e182",
   "metadata": {},
   "outputs": [],
   "source": [
    "print(\"Print the type of variable a \", type(a))"
   ]
  },
  {
   "cell_type": "code",
   "execution_count": null,
   "id": "5e240639",
   "metadata": {},
   "outputs": [],
   "source": [
    "a = 3.5\n",
    "print(a)\n",
    "print(type(a))"
   ]
  },
  {
   "cell_type": "code",
   "execution_count": null,
   "id": "a1f093fa",
   "metadata": {},
   "outputs": [],
   "source": [
    "str = \"Rahul\"\n",
    "print(str)\n",
    "print(type(str))"
   ]
  },
  {
   "cell_type": "code",
   "execution_count": null,
   "id": "43526896",
   "metadata": {},
   "outputs": [],
   "source": [
    "a = 4j\n",
    "print(type(a))"
   ]
  },
  {
   "cell_type": "code",
   "execution_count": null,
   "id": "82273ccc",
   "metadata": {},
   "outputs": [],
   "source": [
    "a = 4.09958504\n",
    "print(type(a))"
   ]
  },
  {
   "cell_type": "code",
   "execution_count": null,
   "id": "3fe53b15",
   "metadata": {},
   "outputs": [],
   "source": [
    "list = [3, 6.8 ,[\"kaif\", \"Rahul\"], 4j]\n",
    "print(list)\n",
    "print(type(list))"
   ]
  },
  {
   "cell_type": "code",
   "execution_count": null,
   "id": "6665f843",
   "metadata": {},
   "outputs": [],
   "source": [
    "tup = (\"Rahul\", \"Mithu\", \"Sonu\", \"Sams\")\n",
    "print(tup)\n",
    "print(type(tup))"
   ]
  },
  {
   "cell_type": "code",
   "execution_count": null,
   "id": "b15caced",
   "metadata": {},
   "outputs": [],
   "source": [
    "dict = {\"name\" : \"Rahul kumar\", \"age\" : 20, \"Canvote\" : True}\n",
    "print(dict)\n",
    "print(type(dict))"
   ]
  },
  {
   "cell_type": "markdown",
   "id": "c7913d56",
   "metadata": {},
   "source": [
    "# Taking Input from user!"
   ]
  },
  {
   "cell_type": "code",
   "execution_count": 1,
   "id": "0d5ff157",
   "metadata": {},
   "outputs": [
    {
     "name": "stdout",
     "output_type": "stream",
     "text": [
      "Enter name: Rahul\n",
      "Rahul\n",
      "<class 'str'>\n"
     ]
    }
   ],
   "source": [
    "a = input(\"Enter name: \")\n",
    "print(a)\n",
    "print(type(a))"
   ]
  },
  {
   "cell_type": "code",
   "execution_count": null,
   "id": "8d912193",
   "metadata": {},
   "outputs": [],
   "source": [
    "a = int(input(\"Enter 1st number: \"))\n"
   ]
  },
  {
   "cell_type": "markdown",
   "id": "866fba6d",
   "metadata": {},
   "source": [
    " # Python 1st project on Calculator"
   ]
  },
  {
   "cell_type": "code",
   "execution_count": null,
   "id": "ca18590f",
   "metadata": {},
   "outputs": [],
   "source": [
    "a = int(input(\"Enter 1st number: \"))\n",
    "b = int(input(\"Enter 2nd number: \"))\n",
    "op = input(\"Enter operator: \")\n",
    "\n",
    "if op == '+':\n",
    "    print(\"Addition of two numbers is:\", a + b)\n",
    "elif op == '-':\n",
    "    print(\"Difference of two numbers is:\", a - b)\n",
    "elif op == '*':\n",
    "    print(\"Multiplication of two numbers is:\", a * b)\n",
    "elif op == '/':\n",
    "    if b != 0:\n",
    "        print(\"Division of two numbers is:\", a / b)\n",
    "    else:\n",
    "        print(\"Error: Division by zero!\")\n",
    "elif op == '%':\n",
    "    if b != 0:\n",
    "        print(\"Remainder of two numbers is:\", a % b)\n",
    "    else:\n",
    "        print(\"Error: Division by zero!\")\n",
    "else:\n",
    "    print(\"Invalid Operator!\")\n"
   ]
  }
 ],
 "metadata": {
  "kernelspec": {
   "display_name": "Python 3 (ipykernel)",
   "language": "python",
   "name": "python3"
  },
  "language_info": {
   "codemirror_mode": {
    "name": "ipython",
    "version": 3
   },
   "file_extension": ".py",
   "mimetype": "text/x-python",
   "name": "python",
   "nbconvert_exporter": "python",
   "pygments_lexer": "ipython3",
   "version": "3.11.5"
  }
 },
 "nbformat": 4,
 "nbformat_minor": 5
}
